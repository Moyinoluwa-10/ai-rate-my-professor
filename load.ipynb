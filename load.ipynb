{
 "cells": [
  {
   "cell_type": "code",
   "execution_count": 1,
   "metadata": {},
   "outputs": [
    {
     "name": "stderr",
     "output_type": "stream",
     "text": [
      "c:\\Users\\moyin\\Documents\\coding\\projects_next\\ai-rate-my-professor\\venv\\Lib\\site-packages\\pinecone\\data\\index.py:1: TqdmWarning: IProgress not found. Please update jupyter and ipywidgets. See https://ipywidgets.readthedocs.io/en/stable/user_install.html\n",
      "  from tqdm.autonotebook import tqdm\n"
     ]
    }
   ],
   "source": [
    "from dotenv import load_dotenv\n",
    "load_dotenv()\n",
    "from pinecone import Pinecone, ServerlessSpec\n",
    "from openai import OpenAI\n",
    "import os\n",
    "import json"
   ]
  },
  {
   "cell_type": "code",
   "execution_count": 2,
   "metadata": {},
   "outputs": [],
   "source": [
    "# Initialize Pinecone\n",
    "pc = Pinecone(api_key=os.getenv(\"PINECONE_API_KEY\"))\n",
    "\n",
    "# Create a Pinecone index\n",
    "pc.create_index(\n",
    "    name=\"rag\",\n",
    "    dimension=1536,\n",
    "    metric=\"cosine\",\n",
    "    spec=ServerlessSpec(cloud=\"aws\", region=\"us-east-1\"),\n",
    ")"
   ]
  },
  {
   "cell_type": "code",
   "execution_count": 3,
   "metadata": {},
   "outputs": [
    {
     "data": {
      "text/plain": [
       "[{'professor': 'Dr. John Smith',\n",
       "  'subject': 'Introduction to Robotics',\n",
       "  'stars': 5,\n",
       "  'review': 'Excellent professor with deep knowledge. Engaging lectures.'},\n",
       " {'professor': 'Dr. Emily Johnson',\n",
       "  'subject': 'Advanced Calculus',\n",
       "  'stars': 4,\n",
       "  'review': 'Very knowledgeable, but lectures can be a bit fast-paced.'},\n",
       " {'professor': 'Dr. Michael Brown',\n",
       "  'subject': 'Physics 101',\n",
       "  'stars': 3,\n",
       "  'review': \"The course content is good, but the professor's teaching style is monotonous.\"},\n",
       " {'professor': 'Dr. Sarah Wilson',\n",
       "  'subject': 'Machine Learning',\n",
       "  'stars': 5,\n",
       "  'review': 'Fantastic course! Dr. Wilson explains complex topics clearly.'},\n",
       " {'professor': 'Dr. David Lee',\n",
       "  'subject': 'Organic Chemistry',\n",
       "  'stars': 2,\n",
       "  'review': 'Difficult to understand. The lectures lack structure.'},\n",
       " {'professor': 'Dr. Jennifer Davis',\n",
       "  'subject': 'Data Structures',\n",
       "  'stars': 4,\n",
       "  'review': 'Great content, but more practical examples would be helpful.'},\n",
       " {'professor': 'Dr. James Martinez',\n",
       "  'subject': 'Psychology 101',\n",
       "  'stars': 5,\n",
       "  'review': 'Very engaging and insightful. Highly recommend this course.'},\n",
       " {'professor': 'Dr. Karen Taylor',\n",
       "  'subject': 'Sociology',\n",
       "  'stars': 3,\n",
       "  'review': \"Interesting subject matter, but the professor's delivery is dry.\"},\n",
       " {'professor': 'Dr. Daniel White',\n",
       "  'subject': 'Artificial Intelligence',\n",
       "  'stars': 5,\n",
       "  'review': 'Dr. White is a great teacher. He makes complex AI topics easy to understand.'},\n",
       " {'professor': 'Dr. Linda Thompson',\n",
       "  'subject': 'Economics 101',\n",
       "  'stars': 4,\n",
       "  'review': 'Clear and concise lectures. A solid introduction to economics.'},\n",
       " {'professor': 'Dr. Richard Clark',\n",
       "  'subject': 'Introduction to Programming',\n",
       "  'stars': 3,\n",
       "  'review': 'Good content, but the pace of the course is too slow.'},\n",
       " {'professor': 'Dr. Lisa Walker',\n",
       "  'subject': 'Discrete Mathematics',\n",
       "  'stars': 5,\n",
       "  'review': 'Excellent professor! Makes a difficult subject approachable.'},\n",
       " {'professor': 'Dr. Robert Harris',\n",
       "  'subject': 'Biology 101',\n",
       "  'stars': 2,\n",
       "  'review': 'Not very engaging. The lectures are often boring.'},\n",
       " {'professor': 'Dr. Barbara Lewis',\n",
       "  'subject': 'Statistics',\n",
       "  'stars': 4,\n",
       "  'review': 'Very thorough and knowledgeable. Lectures are well-organized.'},\n",
       " {'professor': 'Dr. Steven Young',\n",
       "  'subject': 'Ethics in Technology',\n",
       "  'stars': 5,\n",
       "  'review': 'Incredibly engaging and thought-provoking course.'},\n",
       " {'professor': 'Dr. Patricia King',\n",
       "  'subject': 'Quantum Mechanics',\n",
       "  'stars': 3,\n",
       "  'review': \"Challenging course, but the professor's explanations are sometimes unclear.\"},\n",
       " {'professor': 'Dr. Andrew Wright',\n",
       "  'subject': 'History of Science',\n",
       "  'stars': 4,\n",
       "  'review': 'Very informative and well-structured course. Dr. Wright is passionate about the subject.'},\n",
       " {'professor': 'Dr. Susan Baker',\n",
       "  'subject': 'Modern Literature',\n",
       "  'stars': 3,\n",
       "  'review': \"Interesting material, but the professor's lectures can be a bit dry.\"},\n",
       " {'professor': 'Dr. Kenneth Scott',\n",
       "  'subject': 'Philosophy 101',\n",
       "  'stars': 5,\n",
       "  'review': 'Dr. Scott is an amazing lecturer. He makes philosophy fascinating.'},\n",
       " {'professor': 'Dr. Laura Adams',\n",
       "  'subject': 'Environmental Science',\n",
       "  'stars': 4,\n",
       "  'review': 'Great course with practical insights. Dr. Adams is very knowledgeable.'}]"
      ]
     },
     "execution_count": 3,
     "metadata": {},
     "output_type": "execute_result"
    }
   ],
   "source": [
    "# Load the review data\n",
    "data = json.load(open(\"reviews.json\"))\n",
    "data[\"reviews\"]"
   ]
  },
  {
   "cell_type": "code",
   "execution_count": 4,
   "metadata": {},
   "outputs": [],
   "source": [
    "processed_data = []\n",
    "client = OpenAI()\n",
    "\n",
    "# Create embeddings for each review\n",
    "for review in data[\"reviews\"]:\n",
    "    response = client.embeddings.create(\n",
    "        input=review['review'], model=\"text-embedding-3-small\"\n",
    "    )\n",
    "    embedding = response.data[0].embedding\n",
    "    processed_data.append(\n",
    "        {\n",
    "            \"values\": embedding,\n",
    "            \"id\": review[\"professor\"],\n",
    "            \"metadata\":{\n",
    "                \"review\": review[\"review\"],\n",
    "                \"subject\": review[\"subject\"],\n",
    "                \"stars\": review[\"stars\"],\n",
    "            }\n",
    "        }\n",
    "    )"
   ]
  },
  {
   "cell_type": "code",
   "execution_count": 6,
   "metadata": {},
   "outputs": [
    {
     "name": "stdout",
     "output_type": "stream",
     "text": [
      "Upserted count: 20\n"
     ]
    }
   ],
   "source": [
    "# Insert the embeddings into the Pinecone index\n",
    "index = pc.Index(\"rag\")\n",
    "upsert_response = index.upsert(\n",
    "    vectors=processed_data,\n",
    "    namespace=\"ns1\",\n",
    ")\n",
    "print(f\"Upserted count: {upsert_response['upserted_count']}\")"
   ]
  },
  {
   "cell_type": "code",
   "execution_count": 8,
   "metadata": {},
   "outputs": [
    {
     "name": "stdout",
     "output_type": "stream",
     "text": [
      "{'dimension': 1536,\n",
      " 'index_fullness': 0.0,\n",
      " 'namespaces': {'ns1': {'vector_count': 20}},\n",
      " 'total_vector_count': 20}\n"
     ]
    }
   ],
   "source": [
    "# Print index statistics\n",
    "print(index.describe_index_stats())"
   ]
  }
 ],
 "metadata": {
  "kernelspec": {
   "display_name": "venv",
   "language": "python",
   "name": "python3"
  },
  "language_info": {
   "codemirror_mode": {
    "name": "ipython",
    "version": 3
   },
   "file_extension": ".py",
   "mimetype": "text/x-python",
   "name": "python",
   "nbconvert_exporter": "python",
   "pygments_lexer": "ipython3",
   "version": "3.12.2"
  }
 },
 "nbformat": 4,
 "nbformat_minor": 2
}
